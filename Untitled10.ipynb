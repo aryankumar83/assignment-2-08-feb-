{
 "cells": [
  {
   "cell_type": "code",
   "execution_count": 4,
   "id": "e7b36e85",
   "metadata": {},
   "outputs": [],
   "source": [
    "# que 1 :\n",
    "# Abstraction is the process of hiding the internal details of an application from the outer world.\n",
    "import abc\n",
    "class pwskills:\n",
    "    @abc.abstractmethod\n",
    "    def __student_details(self):\n",
    "        pass\n",
    "    @abc.abstractmethod\n",
    "    def __studebt_assignment(self):\n",
    "        pass\n",
    "    @abc.abstractmethod\n",
    "    def __marks(self):\n",
    "        pass"
   ]
  },
  {
   "cell_type": "code",
   "execution_count": 6,
   "id": "07c724a7",
   "metadata": {},
   "outputs": [],
   "source": [
    "# que 2 :\n",
    "# Abstraction is the process or method of gaining the information.\n",
    "# While encapsulation is the process or method to contain the information.\n",
    "# example abstraction:\n",
    "import abc\n",
    "class pwskills:\n",
    "    @abc.abstractmethod\n",
    "    def __student_details(self):\n",
    "        pass\n",
    "    @abc.abstractmethod\n",
    "    def __studebt_assignment(self):\n",
    "        pass\n",
    "    @abc.abstractmethod\n",
    "    def __marks(self):\n",
    "        pass"
   ]
  },
  {
   "cell_type": "code",
   "execution_count": 11,
   "id": "e1d56229",
   "metadata": {},
   "outputs": [],
   "source": [
    "# example encapsulation:\n",
    "class car :\n",
    "    def __init__(self,model):\n",
    "        self.__model = model"
   ]
  },
  {
   "cell_type": "code",
   "execution_count": 12,
   "id": "62405fb8",
   "metadata": {},
   "outputs": [
    {
     "data": {
      "text/plain": [
       "'supra'"
      ]
     },
     "execution_count": 12,
     "metadata": {},
     "output_type": "execute_result"
    }
   ],
   "source": [
    "toyota = car(\"supra\")\n",
    "toyota._car__model"
   ]
  },
  {
   "cell_type": "code",
   "execution_count": 13,
   "id": "8cd52eb5",
   "metadata": {},
   "outputs": [],
   "source": [
    "# que 3 :\n",
    "# Python has a module called abc (abstract base class) that offers the necessary tools for crafting an abstract base class.\n",
    "# The 'abc' module in the Python library provides the infrastructure for defining custom abstract base classes."
   ]
  },
  {
   "cell_type": "code",
   "execution_count": 14,
   "id": "19058554",
   "metadata": {},
   "outputs": [],
   "source": [
    "# que 4 :\n",
    "# We can achieve data abstraction through Abstract classes and interfaces."
   ]
  },
  {
   "cell_type": "code",
   "execution_count": null,
   "id": "0b7e0092",
   "metadata": {},
   "outputs": [],
   "source": [
    "# que 5 :\n",
    "# Abstract classes cannot be instantiated, but they can be subclassed.\n",
    "# When an abstract class is subclassed, the subclass usually provides implementations for all of the abstract methods in its parent class.\n",
    "# However, if it does not, then the subclass must also be declared abstract ."
   ]
  }
 ],
 "metadata": {
  "kernelspec": {
   "display_name": "Python 3 (ipykernel)",
   "language": "python",
   "name": "python3"
  },
  "language_info": {
   "codemirror_mode": {
    "name": "ipython",
    "version": 3
   },
   "file_extension": ".py",
   "mimetype": "text/x-python",
   "name": "python",
   "nbconvert_exporter": "python",
   "pygments_lexer": "ipython3",
   "version": "3.10.9"
  }
 },
 "nbformat": 4,
 "nbformat_minor": 5
}
